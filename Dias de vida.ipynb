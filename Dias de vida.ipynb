{
 "cells": [
  {
   "cell_type": "code",
   "execution_count": 5,
   "metadata": {
    "collapsed": true
   },
   "outputs": [],
   "source": [
    "def nextDay(year, month, day):\n",
    "\t\n",
    "\tif day <30:\n",
    "\t\treturn year, month, day + 1\n",
    "\telse:\n",
    "\t\tif month < 12:\n",
    "\t\t\treturn year, month +1, 1\n",
    "\t\telse:\n",
    "\t\t\treturn year + 1, 1, 1\n"
   ]
  },
  {
   "cell_type": "code",
   "execution_count": 7,
   "metadata": {},
   "outputs": [
    {
     "data": {
      "text/plain": [
       "(2017, 8, 16)"
      ]
     },
     "execution_count": 7,
     "metadata": {},
     "output_type": "execute_result"
    }
   ],
   "source": [
    "nextDay(2017, 8, 15)"
   ]
  },
  {
   "cell_type": "code",
   "execution_count": 15,
   "metadata": {
    "collapsed": true
   },
   "outputs": [],
   "source": [
    "def nextDay(year, month, day):\n",
    "\t\n",
    "\tif day <30:\n",
    "\t\treturn year, month, day + 1\n",
    "\telse:\n",
    "\t\tif month < 12:\n",
    "\t\t\treturn year, month +1, 1\n",
    "\t\telse:\n",
    "\t\t\treturn year + 1, 1, 1"
   ]
  },
  {
   "cell_type": "code",
   "execution_count": 16,
   "metadata": {},
   "outputs": [],
   "source": [
    "def dateIsBefore(year1,month1,day1,year2,month2,day2):\n",
    "\tif year1 < year2:\n",
    "\t\treturn True\n",
    "\telif year1 <= year2 and month1 < month2:\n",
    "\t\treturn True\n",
    "\tif year1 <= year2 and month1 <= month2 and day1 < day2:\n",
    "\t\treturn True\n",
    "\telse:\n",
    "\t\treturn False"
   ]
  },
  {
   "cell_type": "code",
   "execution_count": 17,
   "metadata": {},
   "outputs": [
    {
     "data": {
      "text/plain": [
       "'\\ndef dateIsBefore(year1,month1,day1,year2,month2,day2):\\n\\tif year1 < year2:\\n\\t\\treturn True\\n\\tif year1==year2:\\n\\t\\tif month1<month2:\\n\\t\\t\\treturn True\\n\\t\\tif month1 == month2:\\n\\t\\t\\treturn day1 < day2\\n\\treturn False\\n'"
      ]
     },
     "execution_count": 17,
     "metadata": {},
     "output_type": "execute_result"
    }
   ],
   "source": [
    "\"\"\"\n",
    "def dateIsBefore(year1,month1,day1,year2,month2,day2):\n",
    "\tif year1 < year2:\n",
    "\t\treturn True\n",
    "\tif year1==year2:\n",
    "\t\tif month1<month2:\n",
    "\t\t\treturn True\n",
    "\t\tif month1 == month2:\n",
    "\t\t\treturn day1 < day2\n",
    "\treturn False\n",
    "\"\"\"\t"
   ]
  },
  {
   "cell_type": "code",
   "execution_count": 21,
   "metadata": {},
   "outputs": [],
   "source": [
    "def daysBetweenDates(year1,month1,day1,year2,month2,day2):\n",
    "    assert not dateIsBefore(year2,month2,day2,year1,month1,day1)\n",
    "    days=0\n",
    "    while dateIsBefore(year1,month1,day1,year2,month2,day2):\n",
    "        year1,month1,day1=nextDay(year1,month1,day1)\n",
    "        days+=1\n",
    "    return days"
   ]
  },
  {
   "cell_type": "code",
   "execution_count": 24,
   "metadata": {},
   "outputs": [
    {
     "name": "stdout",
     "output_type": "stream",
     "text": [
      "720\n"
     ]
    }
   ],
   "source": [
    "print daysBetweenDates(2015,12,3,2017,12,3)"
   ]
  },
  {
   "cell_type": "code",
   "execution_count": null,
   "metadata": {
    "collapsed": true
   },
   "outputs": [],
   "source": []
  }
 ],
 "metadata": {
  "kernelspec": {
   "display_name": "Python [conda env:Py2]",
   "language": "python",
   "name": "conda-env-Py2-py"
  },
  "language_info": {
   "codemirror_mode": {
    "name": "ipython",
    "version": 2
   },
   "file_extension": ".py",
   "mimetype": "text/x-python",
   "name": "python",
   "nbconvert_exporter": "python",
   "pygments_lexer": "ipython2",
   "version": "2.7.14"
  }
 },
 "nbformat": 4,
 "nbformat_minor": 2
}
